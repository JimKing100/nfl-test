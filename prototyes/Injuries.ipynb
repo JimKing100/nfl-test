{
  "nbformat": 4,
  "nbformat_minor": 0,
  "metadata": {
    "colab": {
      "name": "Untitled81.ipynb",
      "provenance": [],
      "authorship_tag": "ABX9TyO1iZ58Ok9hKyvgv42eIotr",
      "include_colab_link": true
    },
    "kernelspec": {
      "name": "python3",
      "display_name": "Python 3"
    }
  },
  "cells": [
    {
      "cell_type": "markdown",
      "metadata": {
        "id": "view-in-github",
        "colab_type": "text"
      },
      "source": [
        "<a href=\"https://colab.research.google.com/github/JimKing100/nfl-test/blob/master/prototyes/Injuries.ipynb\" target=\"_parent\"><img src=\"https://colab.research.google.com/assets/colab-badge.svg\" alt=\"Open In Colab\"/></a>"
      ]
    },
    {
      "cell_type": "code",
      "metadata": {
        "id": "YnKSAjQIAuVa",
        "colab_type": "code",
        "colab": {}
      },
      "source": [
        "# Imports\n",
        "import pandas as pd"
      ],
      "execution_count": 0,
      "outputs": []
    },
    {
      "cell_type": "code",
      "metadata": {
        "id": "W9F5xpQjA9jU",
        "colab_type": "code",
        "colab": {}
      },
      "source": [
        "# Load the raw data\n",
        "injury_df = pd.read_csv('https://raw.githubusercontent.com/JimKing100/nfl-test/master/data-revised/injury.csv')"
      ],
      "execution_count": 0,
      "outputs": []
    },
    {
      "cell_type": "code",
      "metadata": {
        "id": "2RSzcIX7BkKN",
        "colab_type": "code",
        "colab": {
          "base_uri": "https://localhost:8080/",
          "height": 204
        },
        "outputId": "4115be0b-257f-46ca-e52b-ad43c045b9f9"
      },
      "source": [
        "injury_df.head()"
      ],
      "execution_count": 3,
      "outputs": [
        {
          "output_type": "execute_result",
          "data": {
            "text/html": [
              "<div>\n",
              "<style scoped>\n",
              "    .dataframe tbody tr th:only-of-type {\n",
              "        vertical-align: middle;\n",
              "    }\n",
              "\n",
              "    .dataframe tbody tr th {\n",
              "        vertical-align: top;\n",
              "    }\n",
              "\n",
              "    .dataframe thead th {\n",
              "        text-align: right;\n",
              "    }\n",
              "</style>\n",
              "<table border=\"1\" class=\"dataframe\">\n",
              "  <thead>\n",
              "    <tr style=\"text-align: right;\">\n",
              "      <th></th>\n",
              "      <th>uid</th>\n",
              "      <th>gid</th>\n",
              "      <th>year</th>\n",
              "      <th>week</th>\n",
              "      <th>player</th>\n",
              "      <th>first</th>\n",
              "      <th>last</th>\n",
              "      <th>name</th>\n",
              "      <th>position1</th>\n",
              "      <th>team</th>\n",
              "      <th>details</th>\n",
              "      <th>pstat</th>\n",
              "      <th>gstat</th>\n",
              "    </tr>\n",
              "  </thead>\n",
              "  <tbody>\n",
              "    <tr>\n",
              "      <th>0</th>\n",
              "      <td>29844</td>\n",
              "      <td>5194</td>\n",
              "      <td>2019</td>\n",
              "      <td>10</td>\n",
              "      <td>AA-0581</td>\n",
              "      <td>Antony</td>\n",
              "      <td>Auclair</td>\n",
              "      <td>Antony Auclair</td>\n",
              "      <td>TE</td>\n",
              "      <td>TB</td>\n",
              "      <td>Toe</td>\n",
              "      <td>NaN</td>\n",
              "      <td>IR</td>\n",
              "    </tr>\n",
              "    <tr>\n",
              "      <th>1</th>\n",
              "      <td>30530</td>\n",
              "      <td>5213</td>\n",
              "      <td>2019</td>\n",
              "      <td>11</td>\n",
              "      <td>AA-0581</td>\n",
              "      <td>Antony</td>\n",
              "      <td>Auclair</td>\n",
              "      <td>Antony Auclair</td>\n",
              "      <td>TE</td>\n",
              "      <td>TB</td>\n",
              "      <td>Toe</td>\n",
              "      <td>NaN</td>\n",
              "      <td>IR</td>\n",
              "    </tr>\n",
              "    <tr>\n",
              "      <th>2</th>\n",
              "      <td>31097</td>\n",
              "      <td>5228</td>\n",
              "      <td>2019</td>\n",
              "      <td>12</td>\n",
              "      <td>AA-0581</td>\n",
              "      <td>Antony</td>\n",
              "      <td>Auclair</td>\n",
              "      <td>Antony Auclair</td>\n",
              "      <td>TE</td>\n",
              "      <td>TB</td>\n",
              "      <td>Toe</td>\n",
              "      <td>NaN</td>\n",
              "      <td>IR</td>\n",
              "    </tr>\n",
              "    <tr>\n",
              "      <th>3</th>\n",
              "      <td>31629</td>\n",
              "      <td>5242</td>\n",
              "      <td>2019</td>\n",
              "      <td>13</td>\n",
              "      <td>AA-0581</td>\n",
              "      <td>Antony</td>\n",
              "      <td>Auclair</td>\n",
              "      <td>Antony Auclair</td>\n",
              "      <td>TE</td>\n",
              "      <td>TB</td>\n",
              "      <td>Toe</td>\n",
              "      <td>NaN</td>\n",
              "      <td>IR</td>\n",
              "    </tr>\n",
              "    <tr>\n",
              "      <th>4</th>\n",
              "      <td>32187</td>\n",
              "      <td>5256</td>\n",
              "      <td>2019</td>\n",
              "      <td>14</td>\n",
              "      <td>AA-0581</td>\n",
              "      <td>Antony</td>\n",
              "      <td>Auclair</td>\n",
              "      <td>Antony Auclair</td>\n",
              "      <td>TE</td>\n",
              "      <td>TB</td>\n",
              "      <td>Toe</td>\n",
              "      <td>NaN</td>\n",
              "      <td>IR</td>\n",
              "    </tr>\n",
              "  </tbody>\n",
              "</table>\n",
              "</div>"
            ],
            "text/plain": [
              "     uid   gid  year  week   player  ... position1 team details pstat gstat\n",
              "0  29844  5194  2019    10  AA-0581  ...        TE   TB     Toe   NaN    IR\n",
              "1  30530  5213  2019    11  AA-0581  ...        TE   TB     Toe   NaN    IR\n",
              "2  31097  5228  2019    12  AA-0581  ...        TE   TB     Toe   NaN    IR\n",
              "3  31629  5242  2019    13  AA-0581  ...        TE   TB     Toe   NaN    IR\n",
              "4  32187  5256  2019    14  AA-0581  ...        TE   TB     Toe   NaN    IR\n",
              "\n",
              "[5 rows x 13 columns]"
            ]
          },
          "metadata": {
            "tags": []
          },
          "execution_count": 3
        }
      ]
    },
    {
      "cell_type": "code",
      "metadata": {
        "id": "9OpKnmNoCbvH",
        "colab_type": "code",
        "colab": {
          "base_uri": "https://localhost:8080/",
          "height": 34
        },
        "outputId": "13564f09-04ff-4f74-89aa-bcc0bd29a5d5"
      },
      "source": [
        "name = 'Antony Auclair'\n",
        "injury_weeks = injury_df['week'].loc[(injury_df['name']==name)]\n",
        "injury_week = min(injury_weeks)\n",
        "injury_week"
      ],
      "execution_count": 4,
      "outputs": [
        {
          "output_type": "execute_result",
          "data": {
            "text/plain": [
              "10"
            ]
          },
          "metadata": {
            "tags": []
          },
          "execution_count": 4
        }
      ]
    }
  ]
}