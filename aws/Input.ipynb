{
  "nbformat": 4,
  "nbformat_minor": 0,
  "metadata": {
    "colab": {
      "name": "Untitled90.ipynb",
      "provenance": [],
      "authorship_tag": "ABX9TyPb/wSuYeJqww18lHrF0kI/",
      "include_colab_link": true
    },
    "kernelspec": {
      "name": "python3",
      "display_name": "Python 3"
    }
  },
  "cells": [
    {
      "cell_type": "markdown",
      "metadata": {
        "id": "view-in-github",
        "colab_type": "text"
      },
      "source": [
        "<a href=\"https://colab.research.google.com/github/JimKing100/nfl-test/blob/master/aws/Input.ipynb\" target=\"_parent\"><img src=\"https://colab.research.google.com/assets/colab-badge.svg\" alt=\"Open In Colab\"/></a>"
      ]
    },
    {
      "cell_type": "code",
      "metadata": {
        "id": "JAM3Pl69XV1E",
        "colab_type": "code",
        "colab": {
          "base_uri": "https://localhost:8080/",
          "height": 51
        },
        "outputId": "04dc8856-71f7-40ec-8cb8-77a6755bdb64"
      },
      "source": [
        "!pip install jsonlines"
      ],
      "execution_count": 1,
      "outputs": [
        {
          "output_type": "stream",
          "text": [
            "Requirement already satisfied: jsonlines in /usr/local/lib/python3.6/dist-packages (1.2.0)\n",
            "Requirement already satisfied: six in /usr/local/lib/python3.6/dist-packages (from jsonlines) (1.12.0)\n"
          ],
          "name": "stdout"
        }
      ]
    },
    {
      "cell_type": "code",
      "metadata": {
        "id": "FejrNpTWXJ-f",
        "colab_type": "code",
        "colab": {}
      },
      "source": [
        "import pandas as pd\n",
        "import json\n",
        "import jsonlines"
      ],
      "execution_count": 0,
      "outputs": []
    },
    {
      "cell_type": "code",
      "metadata": {
        "id": "kHbNSZz_XeIb",
        "colab_type": "code",
        "colab": {}
      },
      "source": [
        "time_stamp = pd.Timestamp(2019, 1, 1, 0)\n",
        "data_array = [1, 2, 3]"
      ],
      "execution_count": 0,
      "outputs": []
    },
    {
      "cell_type": "code",
      "metadata": {
        "id": "bAMplP73dBnR",
        "colab_type": "code",
        "colab": {}
      },
      "source": [
        "dictionary = {\n",
        "    'start': str(time_stamp),\n",
        "    'target': data_array\n",
        "}"
      ],
      "execution_count": 0,
      "outputs": []
    },
    {
      "cell_type": "code",
      "metadata": {
        "id": "kL252SfmeRX6",
        "colab_type": "code",
        "colab": {
          "base_uri": "https://localhost:8080/",
          "height": 34
        },
        "outputId": "97bda8a5-c25c-40cb-bd5c-a6ae4f37a952"
      },
      "source": [
        "print(dictionary)"
      ],
      "execution_count": 5,
      "outputs": [
        {
          "output_type": "stream",
          "text": [
            "{'start': '2019-01-01 00:00:00', 'target': [1, 2, 3]}\n"
          ],
          "name": "stdout"
        }
      ]
    },
    {
      "cell_type": "code",
      "metadata": {
        "id": "a4y_Mi_YefGF",
        "colab_type": "code",
        "colab": {}
      },
      "source": [
        "json_object = json.dumps(dictionary)"
      ],
      "execution_count": 0,
      "outputs": []
    },
    {
      "cell_type": "code",
      "metadata": {
        "id": "j-2taUkmfeJ8",
        "colab_type": "code",
        "colab": {}
      },
      "source": [
        "with open('/content/test.jsonl', 'w') as outfile: \n",
        "    outfile.write(json_object) "
      ],
      "execution_count": 0,
      "outputs": []
    },
    {
      "cell_type": "code",
      "metadata": {
        "id": "dWBVqP7RYyu7",
        "colab_type": "code",
        "colab": {}
      },
      "source": [
        "#with jsonlines.open('/content/test.jsonl', mode='w') as writer:\n",
        "#    writer.write(json_object)\n",
        "\n",
        "#writer.close()  "
      ],
      "execution_count": 0,
      "outputs": []
    }
  ]
}