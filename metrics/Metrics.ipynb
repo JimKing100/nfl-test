{
  "nbformat": 4,
  "nbformat_minor": 0,
  "metadata": {
    "colab": {
      "name": "Untitled86.ipynb",
      "provenance": []
    },
    "kernelspec": {
      "name": "python3",
      "display_name": "Python 3"
    }
  },
  "cells": [
    {
      "cell_type": "code",
      "metadata": {
        "id": "kjwyqkvwwoZw",
        "colab_type": "code",
        "colab": {}
      },
      "source": [
        "# Imports\n",
        "import pandas as pd\n",
        "from sklearn.metrics import mean_absolute_error"
      ],
      "execution_count": 0,
      "outputs": []
    },
    {
      "cell_type": "code",
      "metadata": {
        "id": "SLU7MkAzwuxz",
        "colab_type": "code",
        "colab": {}
      },
      "source": [
        "# Load the raw data\n",
        "w1_results_df = pd.read_csv('https://raw.githubusercontent.com/Lambda-School-Labs/nfl-fantasy-ds/metrics/data/combined-predictions/predictions-week1.csv')"
      ],
      "execution_count": 0,
      "outputs": []
    },
    {
      "cell_type": "code",
      "metadata": {
        "id": "RgOXqOBKx4MC",
        "colab_type": "code",
        "outputId": "2c7283ad-5db0-4c10-d91f-14f7ed039702",
        "colab": {
          "base_uri": "https://localhost:8080/",
          "height": 204
        }
      },
      "source": [
        "w1_results_df.head()"
      ],
      "execution_count": 3,
      "outputs": [
        {
          "output_type": "execute_result",
          "data": {
            "text/html": [
              "<div>\n",
              "<style scoped>\n",
              "    .dataframe tbody tr th:only-of-type {\n",
              "        vertical-align: middle;\n",
              "    }\n",
              "\n",
              "    .dataframe tbody tr th {\n",
              "        vertical-align: top;\n",
              "    }\n",
              "\n",
              "    .dataframe thead th {\n",
              "        text-align: right;\n",
              "    }\n",
              "</style>\n",
              "<table border=\"1\" class=\"dataframe\">\n",
              "  <thead>\n",
              "    <tr style=\"text-align: right;\">\n",
              "      <th></th>\n",
              "      <th>player</th>\n",
              "      <th>first</th>\n",
              "      <th>last</th>\n",
              "      <th>name</th>\n",
              "      <th>position</th>\n",
              "      <th>week1-cur</th>\n",
              "      <th>week1-pred</th>\n",
              "      <th>week1-act</th>\n",
              "      <th>week1-diff</th>\n",
              "      <th>week1-pct</th>\n",
              "      <th>rank-cur</th>\n",
              "      <th>rank-pred</th>\n",
              "      <th>rank-act</th>\n",
              "    </tr>\n",
              "  </thead>\n",
              "  <tbody>\n",
              "    <tr>\n",
              "      <th>0</th>\n",
              "      <td>JK-2250</td>\n",
              "      <td>Jake</td>\n",
              "      <td>Kumerow</td>\n",
              "      <td>Jake Kumerow</td>\n",
              "      <td>WR</td>\n",
              "      <td>18.30</td>\n",
              "      <td>749</td>\n",
              "      <td>27.90</td>\n",
              "      <td>721.750932</td>\n",
              "      <td>0.962783</td>\n",
              "      <td>329.0</td>\n",
              "      <td>1.0</td>\n",
              "      <td>322.0</td>\n",
              "    </tr>\n",
              "    <tr>\n",
              "      <th>1</th>\n",
              "      <td>TG-1950</td>\n",
              "      <td>Todd</td>\n",
              "      <td>Gurley</td>\n",
              "      <td>Todd Gurley</td>\n",
              "      <td>RB</td>\n",
              "      <td>313.10</td>\n",
              "      <td>344</td>\n",
              "      <td>188.40</td>\n",
              "      <td>156.079531</td>\n",
              "      <td>0.453088</td>\n",
              "      <td>7.0</td>\n",
              "      <td>2.0</td>\n",
              "      <td>43.0</td>\n",
              "    </tr>\n",
              "    <tr>\n",
              "      <th>2</th>\n",
              "      <td>SB-0212</td>\n",
              "      <td>Saquon</td>\n",
              "      <td>Barkley</td>\n",
              "      <td>Saquon Barkley</td>\n",
              "      <td>RB</td>\n",
              "      <td>304.80</td>\n",
              "      <td>323</td>\n",
              "      <td>196.10</td>\n",
              "      <td>127.750000</td>\n",
              "      <td>0.394473</td>\n",
              "      <td>9.0</td>\n",
              "      <td>3.0</td>\n",
              "      <td>36.0</td>\n",
              "    </tr>\n",
              "    <tr>\n",
              "      <th>3</th>\n",
              "      <td>RW-3850</td>\n",
              "      <td>Russell</td>\n",
              "      <td>Wilson</td>\n",
              "      <td>Russell Wilson</td>\n",
              "      <td>QB</td>\n",
              "      <td>301.42</td>\n",
              "      <td>306</td>\n",
              "      <td>333.64</td>\n",
              "      <td>-26.917143</td>\n",
              "      <td>-0.087757</td>\n",
              "      <td>10.0</td>\n",
              "      <td>4.0</td>\n",
              "      <td>4.0</td>\n",
              "    </tr>\n",
              "    <tr>\n",
              "      <th>4</th>\n",
              "      <td>DP-2037</td>\n",
              "      <td>Dak</td>\n",
              "      <td>Prescott</td>\n",
              "      <td>Dak Prescott</td>\n",
              "      <td>QB</td>\n",
              "      <td>290.90</td>\n",
              "      <td>299</td>\n",
              "      <td>344.74</td>\n",
              "      <td>-45.667500</td>\n",
              "      <td>-0.152697</td>\n",
              "      <td>12.0</td>\n",
              "      <td>5.0</td>\n",
              "      <td>3.0</td>\n",
              "    </tr>\n",
              "  </tbody>\n",
              "</table>\n",
              "</div>"
            ],
            "text/plain": [
              "    player    first      last  ... rank-cur rank-pred  rank-act\n",
              "0  JK-2250     Jake   Kumerow  ...    329.0       1.0     322.0\n",
              "1  TG-1950     Todd    Gurley  ...      7.0       2.0      43.0\n",
              "2  SB-0212   Saquon   Barkley  ...      9.0       3.0      36.0\n",
              "3  RW-3850  Russell    Wilson  ...     10.0       4.0       4.0\n",
              "4  DP-2037      Dak  Prescott  ...     12.0       5.0       3.0\n",
              "\n",
              "[5 rows x 13 columns]"
            ]
          },
          "metadata": {
            "tags": []
          },
          "execution_count": 3
        }
      ]
    },
    {
      "cell_type": "code",
      "metadata": {
        "id": "_6y1buSxx8oy",
        "colab_type": "code",
        "outputId": "897ea2ab-d894-4ef0-f68c-bf4490f12660",
        "colab": {
          "base_uri": "https://localhost:8080/",
          "height": 51
        }
      },
      "source": [
        "week1_cur = w1_results_df['week1-cur'].tolist()\n",
        "week1_pred = w1_results_df['week1-pred'].tolist()\n",
        "week1_act = w1_results_df['week1-act'].tolist()\n",
        "\n",
        "week1_ca_mae = mean_absolute_error(week1_act, week1_cur)\n",
        "print(week1_ca_mae)\n",
        "\n",
        "week1_pa_mae = mean_absolute_error(week1_act, week1_pred)\n",
        "print(week1_pa_mae)"
      ],
      "execution_count": 4,
      "outputs": [
        {
          "output_type": "stream",
          "text": [
            "36.29573983739837\n",
            "36.09219512195122\n"
          ],
          "name": "stdout"
        }
      ]
    },
    {
      "cell_type": "code",
      "metadata": {
        "id": "BHPmWvto0XSY",
        "colab_type": "code",
        "outputId": "1caa3633-5d8d-416c-f375-f947d935447c",
        "colab": {
          "base_uri": "https://localhost:8080/",
          "height": 595
        }
      },
      "source": [
        "for i in range(1, 18):\n",
        "\n",
        "    filename = 'https://raw.githubusercontent.com/Lambda-School-Labs/nfl-fantasy-ds/metrics/data/combined-predictions/predictions-week' + str(i) + '.csv'\n",
        "    week_cur = 'week' + str(i) + '-cur'\n",
        "    week_pred = 'week' + str(i) + '-pred'\n",
        "    week_act = 'week' + str(i) + '-act'\n",
        "\n",
        "    results_df = pd.read_csv(filename)\n",
        "\n",
        "    week_cur = results_df[week_cur].tolist()\n",
        "    week_pred = results_df[week_pred].tolist()\n",
        "    week_act = results_df[week_act].tolist()\n",
        "\n",
        "    week_ca_mae = mean_absolute_error(week_act, week_cur)\n",
        "    print('current vs act mae week ', i, ' - ', week_ca_mae)\n",
        "\n",
        "    week_pa_mae = mean_absolute_error(week_act, week_pred)\n",
        "    print('predicted vs act week ', i, ' - ', week_pa_mae)\n"
      ],
      "execution_count": 5,
      "outputs": [
        {
          "output_type": "stream",
          "text": [
            "current vs act mae week  1  -  36.29573983739837\n",
            "predicted vs act week  1  -  36.09219512195122\n",
            "current vs act mae week  2  -  52.875869918699195\n",
            "predicted vs act week  2  -  32.86734959349594\n",
            "current vs act mae week  3  -  46.012\n",
            "predicted vs act week  3  -  29.4399674796748\n",
            "current vs act mae week  4  -  38.77011382113822\n",
            "predicted vs act week  4  -  27.62855284552845\n",
            "current vs act mae week  5  -  32.894926829268286\n",
            "predicted vs act week  5  -  25.579121951219516\n",
            "current vs act mae week  6  -  27.240292682926828\n",
            "predicted vs act week  6  -  23.245951219512197\n",
            "current vs act mae week  7  -  22.778829268292686\n",
            "predicted vs act week  7  -  21.955544715447154\n",
            "current vs act mae week  8  -  19.584422764227643\n",
            "predicted vs act week  8  -  20.572227642276424\n",
            "current vs act mae week  9  -  18.175121951219513\n",
            "predicted vs act week  9  -  18.0300162601626\n",
            "current vs act mae week  10  -  18.185788617886175\n",
            "predicted vs act week  10  -  16.118471544715447\n",
            "current vs act mae week  11  -  19.786634146341463\n",
            "predicted vs act week  11  -  14.160162601626016\n",
            "current vs act mae week  12  -  23.49557723577236\n",
            "predicted vs act week  12  -  12.515447154471545\n",
            "current vs act mae week  13  -  27.188520325203257\n",
            "predicted vs act week  13  -  10.997463414634147\n",
            "current vs act mae week  14  -  32.968943089430894\n",
            "predicted vs act week  14  -  9.038341463414634\n",
            "current vs act mae week  15  -  39.83944715447155\n",
            "predicted vs act week  15  -  7.073040650406504\n",
            "current vs act mae week  16  -  46.87886178861788\n",
            "predicted vs act week  16  -  5.19590243902439\n",
            "current vs act mae week  17  -  54.081073170731706\n",
            "predicted vs act week  17  -  2.9854634146341463\n"
          ],
          "name": "stdout"
        }
      ]
    },
    {
      "cell_type": "code",
      "metadata": {
        "id": "88nAPYa87HpE",
        "colab_type": "code",
        "colab": {
          "base_uri": "https://localhost:8080/",
          "height": 595
        },
        "outputId": "76d65ccf-e4e0-4058-b6fa-662d188d2d45"
      },
      "source": [
        "for i in range(1, 18):\n",
        "\n",
        "    filename = 'https://raw.githubusercontent.com/Lambda-School-Labs/nfl-fantasy-ds/metrics/data/combined-predictions/predictions-week' + str(i) + '.csv'\n",
        "\n",
        "    results_df = pd.read_csv(filename)\n",
        "\n",
        "    rank_cur = results_df['rank-cur'].tolist()\n",
        "    rank_pred = results_df['rank-pred'].tolist()\n",
        "    rank_act = results_df['rank-act'].tolist()\n",
        "\n",
        "    rank_ca_mae = mean_absolute_error(rank_act, rank_cur)\n",
        "    print('current vs act rank mae week ', i, ' - ', rank_ca_mae)\n",
        "\n",
        "    rank_pa_mae = mean_absolute_error(rank_act, rank_pred)\n",
        "    print('predicted vs act rank week ', i, ' - ', rank_pa_mae)"
      ],
      "execution_count": 7,
      "outputs": [
        {
          "output_type": "stream",
          "text": [
            "current vs act rank mae week  1  -  110.45691056910569\n",
            "predicted vs act rank week  1  -  107.81626016260162\n",
            "current vs act rank mae week  2  -  126.66829268292683\n",
            "predicted vs act rank week  2  -  99.7479674796748\n",
            "current vs act rank mae week  3  -  110.97723577235773\n",
            "predicted vs act rank week  3  -  99.22113821138211\n",
            "current vs act rank mae week  4  -  101.93333333333334\n",
            "predicted vs act rank week  4  -  100.00162601626016\n",
            "current vs act rank mae week  5  -  99.6910569105691\n",
            "predicted vs act rank week  5  -  101.09105691056911\n",
            "current vs act rank mae week  6  -  98.74471544715448\n",
            "predicted vs act rank week  6  -  100.27642276422765\n",
            "current vs act rank mae week  7  -  94.20650406504065\n",
            "predicted vs act rank week  7  -  100.2260162601626\n",
            "current vs act rank mae week  8  -  94.22926829268293\n",
            "predicted vs act rank week  8  -  100.97723577235773\n",
            "current vs act rank mae week  9  -  93.75934959349594\n",
            "predicted vs act rank week  9  -  99.6390243902439\n",
            "current vs act rank mae week  10  -  94.16747967479675\n",
            "predicted vs act rank week  10  -  97.5170731707317\n",
            "current vs act rank mae week  11  -  94.20975609756097\n",
            "predicted vs act rank week  11  -  97.14634146341463\n",
            "current vs act rank mae week  12  -  96.26666666666667\n",
            "predicted vs act rank week  12  -  96.3739837398374\n",
            "current vs act rank mae week  13  -  98.20162601626016\n",
            "predicted vs act rank week  13  -  94.54146341463415\n",
            "current vs act rank mae week  14  -  99.84552845528455\n",
            "predicted vs act rank week  14  -  92.1739837398374\n",
            "current vs act rank mae week  15  -  105.86016260162602\n",
            "predicted vs act rank week  15  -  90.64878048780488\n",
            "current vs act rank mae week  16  -  114.36422764227642\n",
            "predicted vs act rank week  16  -  86.8390243902439\n",
            "current vs act rank mae week  17  -  135.10569105691056\n",
            "predicted vs act rank week  17  -  73.80162601626016\n"
          ],
          "name": "stdout"
        }
      ]
    }
  ]
}