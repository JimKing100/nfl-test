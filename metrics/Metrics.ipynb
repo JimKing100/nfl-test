{
  "nbformat": 4,
  "nbformat_minor": 0,
  "metadata": {
    "colab": {
      "name": "Untitled86.ipynb",
      "provenance": []
    },
    "kernelspec": {
      "name": "python3",
      "display_name": "Python 3"
    }
  },
  "cells": [
    {
      "cell_type": "code",
      "metadata": {
        "id": "kjwyqkvwwoZw",
        "colab_type": "code",
        "colab": {}
      },
      "source": [
        "# Imports\n",
        "import pandas as pd\n",
        "from sklearn.metrics import mean_absolute_error"
      ],
      "execution_count": 0,
      "outputs": []
    },
    {
      "cell_type": "code",
      "metadata": {
        "id": "SLU7MkAzwuxz",
        "colab_type": "code",
        "colab": {}
      },
      "source": [
        "# Load the raw data\n",
        "w1_results_df = pd.read_csv('https://raw.githubusercontent.com/Lambda-School-Labs/nfl-fantasy-ds/metrics/data/combined-predictions/predictions-week1.csv')"
      ],
      "execution_count": 0,
      "outputs": []
    },
    {
      "cell_type": "code",
      "metadata": {
        "id": "RgOXqOBKx4MC",
        "colab_type": "code",
        "outputId": "b9c5217a-d05c-48b4-e1bc-e8fe9df255fa",
        "colab": {
          "base_uri": "https://localhost:8080/",
          "height": 255
        }
      },
      "source": [
        "w1_results_df.head()"
      ],
      "execution_count": 9,
      "outputs": [
        {
          "output_type": "execute_result",
          "data": {
            "text/html": [
              "<div>\n",
              "<style scoped>\n",
              "    .dataframe tbody tr th:only-of-type {\n",
              "        vertical-align: middle;\n",
              "    }\n",
              "\n",
              "    .dataframe tbody tr th {\n",
              "        vertical-align: top;\n",
              "    }\n",
              "\n",
              "    .dataframe thead th {\n",
              "        text-align: right;\n",
              "    }\n",
              "</style>\n",
              "<table border=\"1\" class=\"dataframe\">\n",
              "  <thead>\n",
              "    <tr style=\"text-align: right;\">\n",
              "      <th></th>\n",
              "      <th>player</th>\n",
              "      <th>first</th>\n",
              "      <th>last</th>\n",
              "      <th>name</th>\n",
              "      <th>position</th>\n",
              "      <th>week1-cur</th>\n",
              "      <th>week1-pred</th>\n",
              "      <th>week1-act</th>\n",
              "      <th>week1-diff</th>\n",
              "      <th>week1-pct</th>\n",
              "      <th>rank-cur</th>\n",
              "      <th>rank-pred</th>\n",
              "      <th>rank-act</th>\n",
              "    </tr>\n",
              "  </thead>\n",
              "  <tbody>\n",
              "    <tr>\n",
              "      <th>0</th>\n",
              "      <td>JK-2250</td>\n",
              "      <td>Jake</td>\n",
              "      <td>Kumerow</td>\n",
              "      <td>Jake Kumerow</td>\n",
              "      <td>WR</td>\n",
              "      <td>18.30</td>\n",
              "      <td>749</td>\n",
              "      <td>27.90</td>\n",
              "      <td>721.750932</td>\n",
              "      <td>0.962783</td>\n",
              "      <td>329.0</td>\n",
              "      <td>1.0</td>\n",
              "      <td>322.0</td>\n",
              "    </tr>\n",
              "    <tr>\n",
              "      <th>1</th>\n",
              "      <td>TG-1950</td>\n",
              "      <td>Todd</td>\n",
              "      <td>Gurley</td>\n",
              "      <td>Todd Gurley</td>\n",
              "      <td>RB</td>\n",
              "      <td>313.10</td>\n",
              "      <td>344</td>\n",
              "      <td>188.40</td>\n",
              "      <td>156.079531</td>\n",
              "      <td>0.453088</td>\n",
              "      <td>7.0</td>\n",
              "      <td>2.0</td>\n",
              "      <td>43.0</td>\n",
              "    </tr>\n",
              "    <tr>\n",
              "      <th>2</th>\n",
              "      <td>SB-0212</td>\n",
              "      <td>Saquon</td>\n",
              "      <td>Barkley</td>\n",
              "      <td>Saquon Barkley</td>\n",
              "      <td>RB</td>\n",
              "      <td>304.80</td>\n",
              "      <td>323</td>\n",
              "      <td>196.10</td>\n",
              "      <td>127.750000</td>\n",
              "      <td>0.394473</td>\n",
              "      <td>9.0</td>\n",
              "      <td>3.0</td>\n",
              "      <td>36.0</td>\n",
              "    </tr>\n",
              "    <tr>\n",
              "      <th>3</th>\n",
              "      <td>RW-3850</td>\n",
              "      <td>Russell</td>\n",
              "      <td>Wilson</td>\n",
              "      <td>Russell Wilson</td>\n",
              "      <td>QB</td>\n",
              "      <td>301.42</td>\n",
              "      <td>306</td>\n",
              "      <td>333.64</td>\n",
              "      <td>-26.917143</td>\n",
              "      <td>-0.087757</td>\n",
              "      <td>10.0</td>\n",
              "      <td>4.0</td>\n",
              "      <td>4.0</td>\n",
              "    </tr>\n",
              "    <tr>\n",
              "      <th>4</th>\n",
              "      <td>DP-2037</td>\n",
              "      <td>Dak</td>\n",
              "      <td>Prescott</td>\n",
              "      <td>Dak Prescott</td>\n",
              "      <td>QB</td>\n",
              "      <td>290.90</td>\n",
              "      <td>299</td>\n",
              "      <td>344.74</td>\n",
              "      <td>-45.667500</td>\n",
              "      <td>-0.152697</td>\n",
              "      <td>12.0</td>\n",
              "      <td>5.0</td>\n",
              "      <td>3.0</td>\n",
              "    </tr>\n",
              "  </tbody>\n",
              "</table>\n",
              "</div>"
            ],
            "text/plain": [
              "    player    first      last  ... rank-cur rank-pred  rank-act\n",
              "0  JK-2250     Jake   Kumerow  ...    329.0       1.0     322.0\n",
              "1  TG-1950     Todd    Gurley  ...      7.0       2.0      43.0\n",
              "2  SB-0212   Saquon   Barkley  ...      9.0       3.0      36.0\n",
              "3  RW-3850  Russell    Wilson  ...     10.0       4.0       4.0\n",
              "4  DP-2037      Dak  Prescott  ...     12.0       5.0       3.0\n",
              "\n",
              "[5 rows x 13 columns]"
            ]
          },
          "metadata": {
            "tags": []
          },
          "execution_count": 9
        }
      ]
    },
    {
      "cell_type": "code",
      "metadata": {
        "id": "_6y1buSxx8oy",
        "colab_type": "code",
        "outputId": "5e56ece5-a3e2-4717-b0cf-814921ccd4b0",
        "colab": {
          "base_uri": "https://localhost:8080/",
          "height": 51
        }
      },
      "source": [
        "week1_cur = w1_results_df['week1-cur'].tolist()\n",
        "week1_pred = w1_results_df['week1-pred'].tolist()\n",
        "week1_act = w1_results_df['week1-act'].tolist()\n",
        "\n",
        "week1_ca_mae = mean_absolute_error(week1_act, week1_cur)\n",
        "print(week1_ca_mae)\n",
        "\n",
        "week1_pa_mae = mean_absolute_error(week1_act, week1_pred)\n",
        "print(week1_pa_mae)"
      ],
      "execution_count": 10,
      "outputs": [
        {
          "output_type": "stream",
          "text": [
            "36.29573983739837\n",
            "36.09219512195122\n"
          ],
          "name": "stdout"
        }
      ]
    },
    {
      "cell_type": "code",
      "metadata": {
        "id": "BHPmWvto0XSY",
        "colab_type": "code",
        "outputId": "e2277b88-ac60-496e-b939-6fd57d617af9",
        "colab": {
          "base_uri": "https://localhost:8080/",
          "height": 595
        }
      },
      "source": [
        "for i in range(1, 18):\n",
        "\n",
        "    filename = 'https://raw.githubusercontent.com/Lambda-School-Labs/nfl-fantasy-ds/metrics/data/combined-predictions/predictions-week' + str(i) + '.csv'\n",
        "    week_cur = 'week' + str(i) + '-cur'\n",
        "    week_pred = 'week' + str(i) + '-pred'\n",
        "    week_act = 'week' + str(i) + '-act'\n",
        "\n",
        "    results_df = pd.read_csv(filename)\n",
        "\n",
        "    week_cur = results_df[week_cur].tolist()\n",
        "    week_pred = results_df[week_pred].tolist()\n",
        "    week_act = results_df[week_act].tolist()\n",
        "\n",
        "    week_ca_mae = mean_absolute_error(week_act, week_cur)\n",
        "    print('current vs act mae week ', i, ' - ', week_ca_mae)\n",
        "\n",
        "    week_pa_mae = mean_absolute_error(week_act, week_pred)\n",
        "    print('predicted vs act week ', i, ' - ', week_pa_mae)\n"
      ],
      "execution_count": 11,
      "outputs": [
        {
          "output_type": "stream",
          "text": [
            "current vs act mae week  1  -  36.29573983739837\n",
            "predicted vs act week  1  -  36.09219512195122\n",
            "current vs act mae week  2  -  52.875869918699195\n",
            "predicted vs act week  2  -  32.86734959349594\n",
            "current vs act mae week  3  -  46.012\n",
            "predicted vs act week  3  -  29.4399674796748\n",
            "current vs act mae week  4  -  38.77011382113822\n",
            "predicted vs act week  4  -  27.62855284552845\n",
            "current vs act mae week  5  -  32.894926829268286\n",
            "predicted vs act week  5  -  25.579121951219516\n",
            "current vs act mae week  6  -  27.240292682926828\n",
            "predicted vs act week  6  -  23.245951219512197\n",
            "current vs act mae week  7  -  22.778829268292686\n",
            "predicted vs act week  7  -  21.955544715447154\n",
            "current vs act mae week  8  -  19.584422764227643\n",
            "predicted vs act week  8  -  20.572227642276424\n",
            "current vs act mae week  9  -  18.175121951219513\n",
            "predicted vs act week  9  -  18.0300162601626\n",
            "current vs act mae week  10  -  18.185788617886175\n",
            "predicted vs act week  10  -  16.118471544715447\n",
            "current vs act mae week  11  -  19.786634146341463\n",
            "predicted vs act week  11  -  14.160162601626016\n",
            "current vs act mae week  12  -  23.49557723577236\n",
            "predicted vs act week  12  -  12.515447154471545\n",
            "current vs act mae week  13  -  27.188520325203257\n",
            "predicted vs act week  13  -  10.997463414634147\n",
            "current vs act mae week  14  -  32.968943089430894\n",
            "predicted vs act week  14  -  9.038341463414634\n",
            "current vs act mae week  15  -  39.83944715447155\n",
            "predicted vs act week  15  -  7.073040650406504\n",
            "current vs act mae week  16  -  46.87886178861788\n",
            "predicted vs act week  16  -  5.19590243902439\n",
            "current vs act mae week  17  -  54.081073170731706\n",
            "predicted vs act week  17  -  2.9854634146341463\n"
          ],
          "name": "stdout"
        }
      ]
    },
    {
      "cell_type": "code",
      "metadata": {
        "id": "88nAPYa87HpE",
        "colab_type": "code",
        "outputId": "d5ee424c-9144-491d-8ca1-cbd8594b7ddf",
        "colab": {
          "base_uri": "https://localhost:8080/",
          "height": 595
        }
      },
      "source": [
        "for i in range(1, 18):\n",
        "\n",
        "    filename = 'https://raw.githubusercontent.com/Lambda-School-Labs/nfl-fantasy-ds/metrics/data/combined-predictions/predictions-week' + str(i) + '.csv'\n",
        "\n",
        "    results_df = pd.read_csv(filename)\n",
        "\n",
        "    player_list = results_df['player'].tolist()\n",
        "    pred_wins = 0\n",
        "    curr_wins = 0\n",
        "\n",
        "    for player in player_list:\n",
        "\n",
        "        rank_cur = results_df['rank-cur'].loc[(results_df['player']==player)].iloc[0]\n",
        "        rank_pred = results_df['rank-pred'].loc[(results_df['player']==player)].iloc[0]\n",
        "        rank_act = results_df['rank-act'].loc[(results_df['player']==player)].iloc[0]\n",
        "\n",
        "        #print(player, abs(rank_pred - rank_act), abs(rank_cur - rank_act))\n",
        "\n",
        "        if abs(rank_pred - rank_act) < abs(rank_cur - rank_act):\n",
        "            pred_wins = pred_wins + 1\n",
        "        else:\n",
        "            curr_wins = curr_wins + 1\n",
        "\n",
        "    print('predicted wins by rank week ', i, ' = ', pred_wins)\n",
        "    print('current wins by rank week ', i, ' = ', curr_wins)"
      ],
      "execution_count": 18,
      "outputs": [
        {
          "output_type": "stream",
          "text": [
            "predicted wins week  1  =  299\n",
            "current wins week  1  =  316\n",
            "predicted wins week  2  =  361\n",
            "current wins week  2  =  254\n",
            "predicted wins week  3  =  350\n",
            "current wins week  3  =  265\n",
            "predicted wins week  4  =  320\n",
            "current wins week  4  =  295\n",
            "predicted wins week  5  =  311\n",
            "current wins week  5  =  304\n",
            "predicted wins week  6  =  317\n",
            "current wins week  6  =  298\n",
            "predicted wins week  7  =  279\n",
            "current wins week  7  =  336\n",
            "predicted wins week  8  =  300\n",
            "current wins week  8  =  315\n",
            "predicted wins week  9  =  301\n",
            "current wins week  9  =  314\n",
            "predicted wins week  10  =  316\n",
            "current wins week  10  =  299\n",
            "predicted wins week  11  =  306\n",
            "current wins week  11  =  309\n",
            "predicted wins week  12  =  308\n",
            "current wins week  12  =  307\n",
            "predicted wins week  13  =  328\n",
            "current wins week  13  =  287\n",
            "predicted wins week  14  =  339\n",
            "current wins week  14  =  276\n",
            "predicted wins week  15  =  340\n",
            "current wins week  15  =  275\n",
            "predicted wins week  16  =  372\n",
            "current wins week  16  =  243\n",
            "predicted wins week  17  =  412\n",
            "current wins week  17  =  203\n"
          ],
          "name": "stdout"
        }
      ]
    },
    {
      "cell_type": "code",
      "metadata": {
        "id": "ydW-dstvKgcW",
        "colab_type": "code",
        "colab": {
          "base_uri": "https://localhost:8080/",
          "height": 595
        },
        "outputId": "ab042eff-0717-4b33-f986-e2542c1f469c"
      },
      "source": [
        "for i in range(1, 18):\n",
        "\n",
        "    filename = 'https://raw.githubusercontent.com/Lambda-School-Labs/nfl-fantasy-ds/metrics/data/combined-predictions/predictions-week' + str(i) + '.csv'\n",
        "\n",
        "    week_cur = 'week' + str(i) + '-cur'\n",
        "    week_pred = 'week' + str(i) + '-pred'\n",
        "    week_act = 'week' + str(i) + '-act'\n",
        "\n",
        "    results_df = pd.read_csv(filename)\n",
        "\n",
        "    player_list = results_df['player'].tolist()\n",
        "    pred_wins = 0\n",
        "    curr_wins = 0\n",
        "\n",
        "    for player in player_list:\n",
        "\n",
        "        points_cur = results_df[week_cur].loc[(results_df['player']==player)].iloc[0]\n",
        "        points_pred = results_df[week_pred].loc[(results_df['player']==player)].iloc[0]\n",
        "        points_act = results_df[week_act].loc[(results_df['player']==player)].iloc[0]\n",
        "\n",
        "        #print(player, abs(rank_pred - rank_act), abs(rank_cur - rank_act))\n",
        "\n",
        "        if abs(points_pred - points_act) < abs(points_cur - points_act):\n",
        "            pred_wins = pred_wins + 1\n",
        "        else:\n",
        "            curr_wins = curr_wins + 1\n",
        "\n",
        "    print('predicted wins by points week ', i, ' = ', pred_wins)\n",
        "    print('current wins by points week ', i, ' = ', curr_wins)"
      ],
      "execution_count": 19,
      "outputs": [
        {
          "output_type": "stream",
          "text": [
            "predicted wins by points week  1  =  264\n",
            "current wins by points week  1  =  351\n",
            "predicted wins by points week  2  =  330\n",
            "current wins by points week  2  =  285\n",
            "predicted wins by points week  3  =  325\n",
            "current wins by points week  3  =  290\n",
            "predicted wins by points week  4  =  303\n",
            "current wins by points week  4  =  312\n",
            "predicted wins by points week  5  =  299\n",
            "current wins by points week  5  =  316\n",
            "predicted wins by points week  6  =  295\n",
            "current wins by points week  6  =  320\n",
            "predicted wins by points week  7  =  282\n",
            "current wins by points week  7  =  333\n",
            "predicted wins by points week  8  =  261\n",
            "current wins by points week  8  =  354\n",
            "predicted wins by points week  9  =  257\n",
            "current wins by points week  9  =  358\n",
            "predicted wins by points week  10  =  281\n",
            "current wins by points week  10  =  334\n",
            "predicted wins by points week  11  =  312\n",
            "current wins by points week  11  =  303\n",
            "predicted wins by points week  12  =  356\n",
            "current wins by points week  12  =  259\n",
            "predicted wins by points week  13  =  383\n",
            "current wins by points week  13  =  232\n",
            "predicted wins by points week  14  =  420\n",
            "current wins by points week  14  =  195\n",
            "predicted wins by points week  15  =  466\n",
            "current wins by points week  15  =  149\n",
            "predicted wins by points week  16  =  507\n",
            "current wins by points week  16  =  108\n",
            "predicted wins by points week  17  =  549\n",
            "current wins by points week  17  =  66\n"
          ],
          "name": "stdout"
        }
      ]
    }
  ]
}